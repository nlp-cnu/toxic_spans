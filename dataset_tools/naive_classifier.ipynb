{
 "cells": [
  {
   "cell_type": "code",
   "execution_count": 5,
   "metadata": {},
   "outputs": [],
   "source": [
    "from ast import literal_eval\n",
    "import os\n",
    "\n",
    "import matplotlib.pyplot as plt\n",
    "import numpy as np\n",
    "import pandas as pd"
   ]
  },
  {
   "cell_type": "code",
   "execution_count": 2,
   "metadata": {},
   "outputs": [],
   "source": [
    "def f1(predictions, gold):\n",
    "    \"\"\"\n",
    "    F1 (a.k.a. DICE) operating on two lists of offsets (e.g., character).\n",
    "    >>> assert f1([0, 1, 4, 5], [0, 1, 6]) == 0.5714285714285714\n",
    "    :param predictions: a list of predicted offsets\n",
    "    :param gold: a list of offsets serving as the ground truth\n",
    "    :return: a score between 0 and 1\n",
    "    \"\"\"\n",
    "    if len(gold) == 0:\n",
    "        return 1 if len(predictions)==0 else 0\n",
    "    nom = 2*len(set(predictions).intersection(set(gold)))\n",
    "    denom = len(set(predictions))+len(set(gold))\n",
    "    return nom/denom"
   ]
  },
  {
   "cell_type": "code",
   "execution_count": 12,
   "metadata": {},
   "outputs": [
    {
     "name": "stdout",
     "output_type": "stream",
     "text": [
      "Mean naïve F1 score (clean) for training data: 0.06118901379070576\n",
      "Mean naïve F1 score (toxic) for training data: 0.20964252673125836\n"
     ]
    }
   ],
   "source": [
    "read_file = os.path.join('toxic_data', 'full_train.csv')\n",
    "train_df = pd.read_csv(read_file)\n",
    "train_df['spans'] = train_df.spans.apply(literal_eval)\n",
    "\n",
    "naive_clean_f1s = [f1([], span) for span in train_df['spans']]\n",
    "print('Mean naïve F1 score (clean) for training data:', np.mean(naive_clean_f1s))\n",
    "\n",
    "naive_toxic_f1s = [f1(np.arange(len(train_df['text'][i])), span) for i, span in enumerate(train_df['spans'])]\n",
    "print('Mean naïve F1 score (toxic) for training data:', np.mean(naive_toxic_f1s))"
   ]
  },
  {
   "cell_type": "code",
   "execution_count": null,
   "metadata": {},
   "outputs": [],
   "source": []
  }
 ],
 "metadata": {
  "kernelspec": {
   "display_name": "Python 3",
   "language": "python",
   "name": "python3"
  },
  "language_info": {
   "codemirror_mode": {
    "name": "ipython",
    "version": 3
   },
   "file_extension": ".py",
   "mimetype": "text/x-python",
   "name": "python",
   "nbconvert_exporter": "python",
   "pygments_lexer": "ipython3",
   "version": "3.8.6"
  }
 },
 "nbformat": 4,
 "nbformat_minor": 4
}
